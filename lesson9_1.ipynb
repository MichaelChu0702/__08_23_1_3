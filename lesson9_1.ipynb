{
 "cells": [
  {
   "cell_type": "code",
   "execution_count": 4,
   "metadata": {},
   "outputs": [],
   "source": [
    "import random\n",
    "def generate_stu()->list[int]:\n",
    "    scores=[]\n",
    "    for i in range(5):\n",
    "        scores.append(random.randint(50,100))\n",
    "    return scores\n",
    "\n",
    "def getNames(num:int)->list[str]:\n",
    "    with open (\"names.txt\",encoding=\"utf-8\") as file:\n",
    "        names=[]\n",
    "        for name in file:\n",
    "            names.append(name.rstrip())\n",
    "        return random.choices(names,k=num)"
   ]
  },
  {
   "cell_type": "code",
   "execution_count": 8,
   "metadata": {},
   "outputs": [
    {
     "name": "stdout",
     "output_type": "stream",
     "text": [
      "請輸入學生人數:"
     ]
    },
    {
     "data": {
      "text/plain": [
       "[['陳奇瑄', 56, 87, 81, 63, 99],\n",
       " ['李佳彥', 88, 82, 79, 58, 82],\n",
       " ['賴昌韻', 83, 53, 64, 56, 63],\n",
       " ['鄧淑娟', 73, 54, 96, 67, 85],\n",
       " ['黃名明', 96, 92, 75, 93, 72]]"
      ]
     },
     "execution_count": 8,
     "metadata": {},
     "output_type": "execute_result"
    }
   ],
   "source": [
    "import pyinputplus as  pyip\n",
    "num=pyip.inputInt('請輸入學生人數:',min=5,max=50)\n",
    "names=getNames(num=num)#建立學生姓名的list\n",
    "students=[]\n",
    "for i in range(num):\n",
    "    scores= generate_stu()#建立學生的5個分數\n",
    "    scores.insert(0,names[i])#將學生姓名加入list內 insert插入 0=前位\n",
    "    students.append(scores)\n",
    "students"
   ]
  },
  {
   "cell_type": "code",
   "execution_count": 13,
   "metadata": {},
   "outputs": [
    {
     "name": "stdout",
     "output_type": "stream",
     "text": [
      "存檔成功\n"
     ]
    }
   ],
   "source": [
    "import csv\n",
    "with open(\"學生成績.csv\",mode='w',encoding=\"utf-8\",newline='')as file:\n",
    "    csv_writer=csv.writer(file)\n",
    "    csv_writer.writerows(students)\n",
    "print(\"存檔成功\")\n",
    "    "
   ]
  },
  {
   "cell_type": "code",
   "execution_count": 23,
   "metadata": {},
   "outputs": [],
   "source": [
    "def save_csv_file(filename=str, data=list)->bool:\n",
    "    try:\n",
    "        with open(filename,mode='w',encoding=\"utf-8\",newline='')as file:\n",
    "            csv_writer=csv.writer(file)\n",
    "            csv_writer.writerow([\"姓名\",\"國文\",\"英文\",\"數學\",\"地理\",\"歷史\"])\n",
    "            csv_writer.writerows(data)\n",
    "    except:\n",
    "        return False\n",
    "    else:\n",
    "        return True"
   ]
  },
  {
   "cell_type": "code",
   "execution_count": 24,
   "metadata": {},
   "outputs": [
    {
     "name": "stdout",
     "output_type": "stream",
     "text": [
      "存檔成功\n"
     ]
    }
   ],
   "source": [
    "Fname= input(\"請輸入csv儲檔的檔案名稱:\")\n",
    "if save_csv_file(filename=f\"{Fname}.csv\",data=students):\n",
    "    print(\"存檔成功\")\n",
    "else:\n",
    "    print(\"存檔失敗\")"
   ]
  }
 ],
 "metadata": {
  "kernelspec": {
   "display_name": "Python 3",
   "language": "python",
   "name": "python3"
  },
  "language_info": {
   "codemirror_mode": {
    "name": "ipython",
    "version": 3
   },
   "file_extension": ".py",
   "mimetype": "text/x-python",
   "name": "python",
   "nbconvert_exporter": "python",
   "pygments_lexer": "ipython3",
   "version": "3.10.12"
  },
  "orig_nbformat": 4
 },
 "nbformat": 4,
 "nbformat_minor": 2
}
