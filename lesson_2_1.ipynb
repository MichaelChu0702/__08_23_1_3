{
 "cells": [
  {
   "cell_type": "code",
   "execution_count": 8,
   "metadata": {},
   "outputs": [
    {
     "name": "stdout",
     "output_type": "stream",
     "text": [
      "上底: 5.0 下底: 3.3 高: 2.0\n",
      "梯形面積是: 8.3\n"
     ]
    }
   ],
   "source": [
    "#讓使用者輸入梯形的上底 下底及高 程式會計算梯形面積 \n",
    "top=float(input(\"請輸入上底\"))\n",
    "bottom=float(input(\"請輸入下底\"))\n",
    "high=float(input(\"請輸入高\"))\n",
    "area=float(top+bottom)*high/2\n",
    "print(\"上底:\",top,\"下底:\",bottom,\"高:\",high)\n",
    "print(\"梯形面積是:\",area)\n",
    "\n"
   ]
  }
 ],
 "metadata": {
  "kernelspec": {
   "display_name": "Python 3",
   "language": "python",
   "name": "python3"
  },
  "language_info": {
   "codemirror_mode": {
    "name": "ipython",
    "version": 3
   },
   "file_extension": ".py",
   "mimetype": "text/x-python",
   "name": "python",
   "nbconvert_exporter": "python",
   "pygments_lexer": "ipython3",
   "version": "3.10.12"
  },
  "orig_nbformat": 4
 },
 "nbformat": 4,
 "nbformat_minor": 2
}
