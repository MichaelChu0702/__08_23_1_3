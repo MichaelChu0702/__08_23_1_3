{
 "cells": [
  {
   "cell_type": "code",
   "execution_count": 1,
   "metadata": {},
   "outputs": [
    {
     "data": {
      "text/plain": [
       "[78, 92, 85, 64, 92]"
      ]
     },
     "execution_count": 1,
     "metadata": {},
     "output_type": "execute_result"
    }
   ],
   "source": [
    "#一班五十學生 每個學生五個分數\n",
    "stu1=[78,92,85,64,92]\n",
    "stu1"
   ]
  },
  {
   "cell_type": "code",
   "execution_count": 7,
   "metadata": {},
   "outputs": [
    {
     "data": {
      "text/plain": [
       "[94, 76, 78, 73, 56]"
      ]
     },
     "execution_count": 7,
     "metadata": {},
     "output_type": "execute_result"
    }
   ],
   "source": [
    "import random\n",
    "stu2=[]\n",
    "for i in range(5):\n",
    "    stu2.append(random.randint(50,100))\n",
    "stu2"
   ]
  },
  {
   "cell_type": "code",
   "execution_count": 17,
   "metadata": {},
   "outputs": [
    {
     "data": {
      "text/plain": [
       "[82, 82, 67, 73, 88]"
      ]
     },
     "execution_count": 17,
     "metadata": {},
     "output_type": "execute_result"
    }
   ],
   "source": [
    "import random\n",
    "def generate_stu():\n",
    "    scores=[]\n",
    "    for i in range(5):\n",
    "        scores.append(random.randint(50,100))\n",
    "    return scores\n",
    "generate_stu()"
   ]
  },
  {
   "cell_type": "code",
   "execution_count": 63,
   "metadata": {},
   "outputs": [
    {
     "name": "stdout",
     "output_type": "stream",
     "text": [
      "[[62, 66, 55, 58, 63], [92, 67, 90, 54, 69], [52, 51, 83, 97, 63], [52, 100, 73, 71, 73], [87, 56, 90, 59, 77]]\n"
     ]
    }
   ],
   "source": [
    "#建立五十個學生\n",
    "while True:\n",
    "    try:\n",
    "        num=int (input('請輸入學生人數'))\n",
    "    except:\n",
    "        print(\"格式錯誤\")\n",
    "    else:\n",
    "        if not (num>=5 and num<=50):\n",
    "            continue\n",
    "        students=[]\n",
    "        for _ in range(num):\n",
    "            scores= generate_stu()\n",
    "            students.append(scores)\n",
    "        print(students)\n",
    "        break\n"
   ]
  },
  {
   "cell_type": "code",
   "execution_count": 72,
   "metadata": {},
   "outputs": [
    {
     "name": "stdout",
     "output_type": "stream",
     "text": [
      "請輸入學生人數:Number must be at minimum 5.\n",
      "請輸入學生人數:Number must be at minimum 5.\n",
      "請輸入學生人數:Number must be at minimum 5.\n",
      "請輸入學生人數:Number must be at maximum 50.\n",
      "請輸入學生人數:"
     ]
    },
    {
     "data": {
      "text/plain": [
       "[[89, 62, 74, 96, 72],\n",
       " [88, 99, 56, 97, 62],\n",
       " [63, 61, 69, 67, 98],\n",
       " [71, 71, 64, 55, 89],\n",
       " [61, 100, 97, 90, 89]]"
      ]
     },
     "execution_count": 72,
     "metadata": {},
     "output_type": "execute_result"
    }
   ],
   "source": [
    "import pyinputplus as  pyip\n",
    "num=pyip.inputInt('請輸入學生人數:',min=5,max=50)\n",
    "students=[]\n",
    "for _ in range(num):\n",
    "    scores= generate_stu()\n",
    "    students.append(scores)\n",
    "students"
   ]
  }
 ],
 "metadata": {
  "kernelspec": {
   "display_name": "Python 3",
   "language": "python",
   "name": "python3"
  },
  "language_info": {
   "codemirror_mode": {
    "name": "ipython",
    "version": 3
   },
   "file_extension": ".py",
   "mimetype": "text/x-python",
   "name": "python",
   "nbconvert_exporter": "python",
   "pygments_lexer": "ipython3",
   "version": "3.10.12"
  },
  "orig_nbformat": 4
 },
 "nbformat": 4,
 "nbformat_minor": 2
}
