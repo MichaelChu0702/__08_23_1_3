{
 "cells": [
  {
   "cell_type": "code",
   "execution_count": 30,
   "metadata": {},
   "outputs": [
    {
     "name": "stdout",
     "output_type": "stream",
     "text": [
      "==========猜數字遊戲==========\n",
      "\n",
      "猜數字的範圍:1~100\n",
      "再大一點\n",
      "你已經猜了1次\n",
      "再小一點\n",
      "你已經猜了2次\n",
      "再小一點\n",
      "你已經猜了3次\n",
      "再小一點\n",
      "你已經猜了4次\n",
      "輸入錯誤,輸入數字不在範圍內\n",
      "你已經猜了5次\n",
      "再大一點\n",
      "你已經猜了6次\n",
      "再小一點\n",
      "你已經猜了7次\n",
      "再小一點\n",
      "你已經猜了8次\n",
      "再小一點\n",
      "你已經猜了9次\n",
      "輸入錯誤,輸入數字不在範圍內\n",
      "你已經猜了10次\n",
      "再小一點\n",
      "你已經猜了11次\n",
      "恭喜!猜對了,答案是: 10\n",
      "你總共猜了12次\n",
      "遊戲結束\n"
     ]
    }
   ],
   "source": [
    "import random\n",
    "min=1\n",
    "max=100\n",
    "count=0\n",
    "target=random.randint(min,max)\n",
    "print(\"==========猜數字遊戲==========\\n\")\n",
    "print(f\"猜數字的範圍:{min}~{max}\")\n",
    "\n",
    "while True:\n",
    "    try:\n",
    "        guess=int(input(f\"猜數字範圍:{min}~{max}\"))\n",
    "    except:\n",
    "        print(\"輸入格式錯誤\")\n",
    "        count+=1\n",
    "        print(f\"你已經猜了{count}次\")\n",
    "    else:\n",
    "        count+=1\n",
    "        if guess>=min and guess<=max:\n",
    "            if guess==target:\n",
    "                print(\"恭喜!猜對了,答案是:\",target)\n",
    "                print(f\"你總共猜了{count}次\")\n",
    "                break\n",
    "            elif guess>target:\n",
    "                print(f\"再小一點\")\n",
    "                max=guess-1\n",
    "                \n",
    "                \n",
    "            elif guess<target:\n",
    "                print(\"再大一點\")\n",
    "                min=guess+1\n",
    "            print(f\"你已經猜了{count}次\")\n",
    "        else:\n",
    "            print(\"輸入錯誤,輸入數字不在範圍內\")\n",
    "            print(f\"你已經猜了{count}次\")\n",
    "    \n",
    "    \n",
    "\n",
    "        \n",
    "        \n",
    "print(\"遊戲結束\")\n"
   ]
  }
 ],
 "metadata": {
  "kernelspec": {
   "display_name": "Python 3",
   "language": "python",
   "name": "python3"
  },
  "language_info": {
   "codemirror_mode": {
    "name": "ipython",
    "version": 3
   },
   "file_extension": ".py",
   "mimetype": "text/x-python",
   "name": "python",
   "nbconvert_exporter": "python",
   "pygments_lexer": "ipython3",
   "version": "3.10.12"
  },
  "orig_nbformat": 4
 },
 "nbformat": 4,
 "nbformat_minor": 2
}
