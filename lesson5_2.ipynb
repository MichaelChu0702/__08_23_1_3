{
 "cells": [
  {
   "cell_type": "code",
   "execution_count": 9,
   "metadata": {},
   "outputs": [
    {
     "name": "stdout",
     "output_type": "stream",
     "text": [
      "1 2 3 4 5 \n",
      "while結束\n"
     ]
    }
   ],
   "source": [
    "count=1\n",
    "while count<6:\n",
    "    print(count,end=' ')\n",
    "    count+=1\n",
    "print(\"\\nwhile結束\")"
   ]
  },
  {
   "cell_type": "code",
   "execution_count": 13,
   "metadata": {},
   "outputs": [
    {
     "name": "stdout",
     "output_type": "stream",
     "text": [
      "恭喜!已經存夠了,存了8個月,總存款為:36000元\n"
     ]
    }
   ],
   "source": [
    "#存錢買機車需三萬 將每月存錢輸入 存款足夠時候以訊息告知\n",
    "deposit=0\n",
    "month=0\n",
    "while deposit<30000:\n",
    "    month +=1\n",
    "    input_value=int(input(f\"請輸入第{month}個月份存款:\"))\n",
    "    deposit+=input_value\n",
    "\n",
    "print(f'恭喜!已經存夠了,存了{month}個月,總存款為:{deposit}元')"
   ]
  },
  {
   "cell_type": "code",
   "execution_count": 18,
   "metadata": {},
   "outputs": [
    {
     "name": "stdout",
     "output_type": "stream",
     "text": [
      "5的平方是:25\n",
      "3的平方是:9\n",
      "5的平方是:25\n",
      "9的平方是:81\n",
      "79的平方是:6241\n",
      "程式結束\n"
     ]
    }
   ],
   "source": [
    "#要求使用者輸入值\n",
    "#奇數輸出平方\n",
    "#偶數不做任何動作\n",
    "#'q'離開\n",
    "while True:#因為value要重複執行 所以while要在上面\n",
    "    value=input(\"請輸入整數,輸入[q]離開:\")\n",
    "\n",
    "    if value=='q':\n",
    "        break\n",
    "    number=int (value)\n",
    "    if number%2!=0:\n",
    "        print(f'{number}的平方是:{number**2}')\n",
    "print(\"程式結束\")"
   ]
  },
  {
   "cell_type": "code",
   "execution_count": 20,
   "metadata": {},
   "outputs": [
    {
     "name": "stdout",
     "output_type": "stream",
     "text": [
      "總共輸入了8個數值\n",
      "所有輸入的正偶數加總是:36\n"
     ]
    }
   ],
   "source": [
    "#設計程式 使用者輸入數值 只有加總正偶數值 不加總正奇數值 如果輸入負數 結束程式\n",
    "num=0\n",
    "sum=0\n",
    "while True:\n",
    "    num+=1\n",
    "    input_value=int(input(f'請輸入第{num}個數值'))\n",
    "    if input_value<0:\n",
    "        break\n",
    "    elif input_value%2!=0:\n",
    "        continue\n",
    "    else:\n",
    "        sum+=input_value\n",
    "print(f'總共輸入了{num}個數值')\n",
    "print(f\"所有輸入的正偶數加總是:{sum}\")\n"
   ]
  }
 ],
 "metadata": {
  "kernelspec": {
   "display_name": "Python 3",
   "language": "python",
   "name": "python3"
  },
  "language_info": {
   "codemirror_mode": {
    "name": "ipython",
    "version": 3
   },
   "file_extension": ".py",
   "mimetype": "text/x-python",
   "name": "python",
   "nbconvert_exporter": "python",
   "pygments_lexer": "ipython3",
   "version": "3.10.12"
  },
  "orig_nbformat": 4
 },
 "nbformat": 4,
 "nbformat_minor": 2
}
