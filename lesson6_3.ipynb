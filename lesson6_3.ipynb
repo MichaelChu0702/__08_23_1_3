{
 "cells": [
  {
   "cell_type": "code",
   "execution_count": 5,
   "metadata": {},
   "outputs": [
    {
     "name": "stdout",
     "output_type": "stream",
     "text": [
      "Hello! python\n",
      "Hello! python\n",
      "Hello! python\n"
     ]
    }
   ],
   "source": [
    "#自訂function\n",
    "def say_hello():\n",
    "    print(\"Hello! python\")\n",
    "say_hello()\n",
    "say_hello()\n",
    "say_hello()"
   ]
  },
  {
   "cell_type": "code",
   "execution_count": 14,
   "metadata": {},
   "outputs": [
    {
     "name": "stdout",
     "output_type": "stream",
     "text": [
      "矩形面積是50\n",
      "三角形面積是:120.0\n"
     ]
    }
   ],
   "source": [
    "#計算矩形面積工具\n",
    "def rectangle_area(width,height):\n",
    "    area=width*height\n",
    "    return area\n",
    "rec1_area=rectangle_area(5,10)\n",
    "print(f\"矩形面積是{rec1_area}\")\n",
    "\n"
   ]
  }
 ],
 "metadata": {
  "kernelspec": {
   "display_name": "Python 3",
   "language": "python",
   "name": "python3"
  },
  "language_info": {
   "codemirror_mode": {
    "name": "ipython",
    "version": 3
   },
   "file_extension": ".py",
   "mimetype": "text/x-python",
   "name": "python",
   "nbconvert_exporter": "python",
   "pygments_lexer": "ipython3",
   "version": "3.10.12"
  },
  "orig_nbformat": 4
 },
 "nbformat": 4,
 "nbformat_minor": 2
}
