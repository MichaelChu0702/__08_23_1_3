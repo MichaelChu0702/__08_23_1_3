{
 "cells": [
  {
   "cell_type": "code",
   "execution_count": 1,
   "metadata": {},
   "outputs": [
    {
     "name": "stdout",
     "output_type": "stream",
     "text": [
      "輸入錯誤\n"
     ]
    }
   ],
   "source": [
    "try:\n",
    "    nums=int(input('請輸入整數:'))\n",
    "except ValueError:\n",
    "    print('輸入錯誤')\n",
    "else:\n",
    "    print(nums)"
   ]
  },
  {
   "cell_type": "code",
   "execution_count": null,
   "metadata": {},
   "outputs": [],
   "source": [
    "import pyinputplus\n",
    "name= pyinputplus.inputStr()\n",
    "print(name)"
   ]
  },
  {
   "cell_type": "code",
   "execution_count": null,
   "metadata": {},
   "outputs": [],
   "source": [
    "import pyinputplus as pyip\n",
    "nums=pyip.inputNum(\"請輸入整數:\")\n",
    "print(nums)"
   ]
  },
  {
   "cell_type": "code",
   "execution_count": null,
   "metadata": {},
   "outputs": [],
   "source": [
    "empty_set=set()\n",
    "empty_set"
   ]
  },
  {
   "cell_type": "code",
   "execution_count": 2,
   "metadata": {},
   "outputs": [
    {
     "data": {
      "text/plain": [
       "dict"
      ]
     },
     "execution_count": 2,
     "metadata": {},
     "output_type": "execute_result"
    }
   ],
   "source": [
    "empty_set={}\n",
    "type(empty_set)"
   ]
  },
  {
   "cell_type": "code",
   "execution_count": 4,
   "metadata": {},
   "outputs": [
    {
     "data": {
      "text/plain": [
       "{0, 2, 4, 6, 8, 10, 12}"
      ]
     },
     "execution_count": 4,
     "metadata": {},
     "output_type": "execute_result"
    }
   ],
   "source": [
    "even_numbers={0,2,4,6,8,10,0,2,4,6,8,10}\n",
    "even_numbers.add(12)\n",
    "even_numbers"
   ]
  },
  {
   "cell_type": "code",
   "execution_count": 25,
   "metadata": {},
   "outputs": [
    {
     "name": "stdout",
     "output_type": "stream",
     "text": [
      "本期大樂透電腦選號號碼如下:\n",
      "32 36 6 7 39 29 \n",
      "特別號:31\n"
     ]
    }
   ],
   "source": [
    "#大樂透 程式以亂數顯示1~49 總共七個數字不重複\n",
    "import random\n",
    "lotos=set()\n",
    "while len(lotos)<7:\n",
    "    lotos.add(random.randint(1,49))\n",
    "lotos_list=list(lotos)\n",
    "lotos_list\n",
    "print(f\"本期大樂透電腦選號號碼如下:\")\n",
    "for num in lotos_list[:6]:\n",
    "    print(num,end=' ')\n",
    "print()\n",
    "print(f\"特別號:{lotos_list[6]}\")"
   ]
  },
  {
   "cell_type": "code",
   "execution_count": 35,
   "metadata": {},
   "outputs": [
    {
     "name": "stdout",
     "output_type": "stream",
     "text": [
      "請輸入電腦選號的組數:(最多10組)\n",
      "本期大樂透電腦選號號碼如下:\n",
      "第1組\n",
      "35 10 12 45 44 47 \n",
      "特別號:24\n",
      "\n",
      "第2組\n",
      "6 41 12 14 17 25 \n",
      "特別號:30\n",
      "\n",
      "第3組\n",
      "36 41 10 26 27 28 \n",
      "特別號:29\n",
      "\n"
     ]
    }
   ],
   "source": [
    "import pyinputplus as pyip\n",
    "import random\n",
    "def generate_loto()->list:\n",
    "    lotos=set()\n",
    "    while len(lotos)<7:\n",
    "        lotos.add(random.randint(1,49))\n",
    "    return list(lotos)\n",
    "    \n",
    "num=pyip.inputInt(\"請輸入電腦選號的組數:(最多10組)\\n\",max=10)\n",
    "print(f\"本期大樂透電腦選號號碼如下:\")\n",
    "for i in range(num):\n",
    "    print(f\"第{i+1}組\")\n",
    "    lotos_list=generate_loto()\n",
    "    for num in lotos_list[:6]:\n",
    "        print(num,end=' ')\n",
    "    print()\n",
    "    print(f\"特別號:{lotos_list[6]}\\n\")\n"
   ]
  }
 ],
 "metadata": {
  "kernelspec": {
   "display_name": "Python 3",
   "language": "python",
   "name": "python3"
  },
  "language_info": {
   "codemirror_mode": {
    "name": "ipython",
    "version": 3
   },
   "file_extension": ".py",
   "mimetype": "text/x-python",
   "name": "python",
   "nbconvert_exporter": "python",
   "pygments_lexer": "ipython3",
   "version": "3.10.12"
  },
  "orig_nbformat": 4
 },
 "nbformat": 4,
 "nbformat_minor": 2
}
