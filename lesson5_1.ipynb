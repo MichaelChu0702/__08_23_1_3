{
 "cells": [
  {
   "cell_type": "code",
   "execution_count": 2,
   "metadata": {},
   "outputs": [
    {
     "name": "stdout",
     "output_type": "stream",
     "text": [
      "0\n",
      "1\n",
      "2\n",
      "3\n",
      "4\n"
     ]
    }
   ],
   "source": [
    "for i in range(5):\n",
    "    print(i)"
   ]
  },
  {
   "cell_type": "code",
   "execution_count": 4,
   "metadata": {},
   "outputs": [
    {
     "name": "stdout",
     "output_type": "stream",
     "text": [
      "1\n",
      "2\n",
      "3\n",
      "4\n",
      "5\n"
     ]
    }
   ],
   "source": [
    "for i in range(1,6):\n",
    "    print(i)"
   ]
  },
  {
   "cell_type": "code",
   "execution_count": 8,
   "metadata": {},
   "outputs": [
    {
     "name": "stdout",
     "output_type": "stream",
     "text": [
      "1\n",
      "3\n",
      "5\n",
      "7\n",
      "9\n",
      "11\n"
     ]
    }
   ],
   "source": [
    "for i in range(1,11,2):\n",
    "    print(i)"
   ]
  },
  {
   "cell_type": "code",
   "execution_count": 17,
   "metadata": {},
   "outputs": [
    {
     "name": "stdout",
     "output_type": "stream",
     "text": [
      "1~365的加總是:66795\n"
     ]
    }
   ],
   "source": [
    "end=int(input(\"請輸入結束的數值:\"))\n",
    "sum=0\n",
    "for i in range(1,end+1):\n",
    "    sum+=i\n",
    "print(f\"1~{end}的加總是:{sum}\")"
   ]
  },
  {
   "cell_type": "code",
   "execution_count": 20,
   "metadata": {},
   "outputs": [
    {
     "name": "stdout",
     "output_type": "stream",
     "text": [
      "1~100的偶數加總:2550\n",
      "1~100的基數加總:2500\n"
     ]
    }
   ],
   "source": [
    "#1~100 偶數加總\n",
    "#1~100 基數加總\n",
    "evenTotal=0\n",
    "oddTotal=0\n",
    "\n",
    "for i in range(1,101):\n",
    "    if i%2==0:\n",
    "        evenTotal+=i\n",
    "    else:\n",
    "        oddTotal+=i\n",
    "print(f\"1~100的偶數加總:{evenTotal}\")\n",
    "print(f\"1~100的基數加總:{oddTotal}\")"
   ]
  },
  {
   "cell_type": "code",
   "execution_count": 76,
   "metadata": {},
   "outputs": [
    {
     "name": "stdout",
     "output_type": "stream",
     "text": [
      "1 *1 =1   1 *2 =2   1 *3 =3   1 *4 =4   1 *5 =5   1 *6 =6   1 *7 =7   1 *8 =8   1 *9 =9   \n",
      "\n",
      "2 *1 =2   2 *2 =4   2 *3 =6   2 *4 =8   2 *5 =10  2 *6 =12  2 *7 =14  2 *8 =16  2 *9 =18  \n",
      "\n",
      "3 *1 =3   3 *2 =6   3 *3 =9   3 *4 =12  3 *5 =15  3 *6 =18  3 *7 =21  3 *8 =24  3 *9 =27  \n",
      "\n",
      "4 *1 =4   4 *2 =8   4 *3 =12  4 *4 =16  4 *5 =20  4 *6 =24  4 *7 =28  4 *8 =32  4 *9 =36  \n",
      "\n",
      "5 *1 =5   5 *2 =10  5 *3 =15  5 *4 =20  5 *5 =25  5 *6 =30  5 *7 =35  5 *8 =40  5 *9 =45  \n",
      "\n",
      "6 *1 =6   6 *2 =12  6 *3 =18  6 *4 =24  6 *5 =30  6 *6 =36  6 *7 =42  6 *8 =48  6 *9 =54  \n",
      "\n",
      "7 *1 =7   7 *2 =14  7 *3 =21  7 *4 =28  7 *5 =35  7 *6 =42  7 *7 =49  7 *8 =56  7 *9 =63  \n",
      "\n",
      "8 *1 =8   8 *2 =16  8 *3 =24  8 *4 =32  8 *5 =40  8 *6 =48  8 *7 =56  8 *8 =64  8 *9 =72  \n",
      "\n",
      "9 *1 =9   9 *2 =18  9 *3 =27  9 *4 =36  9 *5 =45  9 *6 =54  9 *7 =63  9 *8 =72  9 *9 =81  \n",
      "\n"
     ]
    }
   ],
   "source": [
    "#99乘法表\n",
    "for i in range(1,10):\n",
    "    \n",
    "    for j in range(1,10):\n",
    "        print(f'{i:^2}*{j:^2}={i*j:^2}',end='  ')\n",
    "    print(\"\\n\")"
   ]
  },
  {
   "cell_type": "code",
   "execution_count": 87,
   "metadata": {},
   "outputs": [
    {
     "name": "stdout",
     "output_type": "stream",
     "text": [
      "42的因數為:\n",
      "1  2  3  6  7  14 21 42 "
     ]
    }
   ],
   "source": [
    "#求所有因數\n",
    "\n",
    "num=int(input(\"請輸入整數,求所有的因數:\"))\n",
    "print(f'{num}的因數為:')\n",
    "for i in range(1,num+1):\n",
    "    if num%i==0:\n",
    "        print(f'{i:<2}',end=\" \")\n"
   ]
  },
  {
   "cell_type": "code",
   "execution_count": 91,
   "metadata": {},
   "outputs": [
    {
     "name": "stdout",
     "output_type": "stream",
     "text": [
      "請輸入兩數值,求兩數較小值\n",
      "12\n"
     ]
    }
   ],
   "source": [
    "print(\"請輸入兩數值,求兩數較小值\")\n",
    "n=int(input(\"數值1:\"))\n",
    "m=int(input(\"數值2:\"))\n",
    "Min=min(n,m)\n",
    "print(Min)"
   ]
  },
  {
   "cell_type": "code",
   "execution_count": 95,
   "metadata": {},
   "outputs": [
    {
     "name": "stdout",
     "output_type": "stream",
     "text": [
      "600,100的公因數是:\n",
      " 1  2  4  5 10 20 25 50 100"
     ]
    }
   ],
   "source": [
    "#求公因數\n",
    "n=int(input(\"數值1:\"))\n",
    "m=int(input(\"數值2:\"))\n",
    "Min=min(n,m)\n",
    "print(f'{n},{m}的公因數是:')\n",
    "for i in range(1,Min+1):\n",
    "    if n%i==0 and m%i==0:\n",
    "        print(f'{i:^3}',end=\"\")\n",
    "              "
   ]
  },
  {
   "cell_type": "code",
   "execution_count": null,
   "metadata": {},
   "outputs": [],
   "source": []
  }
 ],
 "metadata": {
  "kernelspec": {
   "display_name": "Python 3",
   "language": "python",
   "name": "python3"
  },
  "language_info": {
   "codemirror_mode": {
    "name": "ipython",
    "version": 3
   },
   "file_extension": ".py",
   "mimetype": "text/x-python",
   "name": "python",
   "nbconvert_exporter": "python",
   "pygments_lexer": "ipython3",
   "version": "3.10.12"
  },
  "orig_nbformat": 4
 },
 "nbformat": 4,
 "nbformat_minor": 2
}
