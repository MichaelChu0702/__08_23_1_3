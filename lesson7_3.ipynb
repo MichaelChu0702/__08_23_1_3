{
 "cells": [
  {
   "cell_type": "code",
   "execution_count": 1,
   "metadata": {},
   "outputs": [],
   "source": [
    "#自訂的class\n",
    "class Student:\n",
    "    def __init__(self,n,c,e,m):\n",
    "        self.name=n\n",
    "        self.chinese=c\n",
    "        self.english=e\n",
    "        self.math=m\n",
    "    #實體的方法\n",
    "    def student_info(self):\n",
    "        print(\"name:\",self.name)\n",
    "        print(\"chinese:\",self.chinese)\n",
    "        print(\"english:\",self.english)\n",
    "        print(\"math:\",self.math)\n",
    "    #實體方法 算總分\n",
    "    def sum(self):\n",
    "        return self.chinese+self.english+self.math  \n",
    "    #實體方法 平均\n",
    "    def average(self):\n",
    "        return self.sum()/3.0\n",
    "    #override內建的__repr__(self)\n",
    "    def __repr__(self):\n",
    "        return f\"這是Student實體\\n學生姓名是:{self.name}\"\n",
    "      \n",
    "\n",
    "        \n",
    "\n",
    "\n",
    "\n",
    "\n"
   ]
  },
  {
   "cell_type": "code",
   "execution_count": 2,
   "metadata": {},
   "outputs": [
    {
     "name": "stdout",
     "output_type": "stream",
     "text": [
      "name: 小明\n",
      "chinese: 78\n",
      "english: 92\n",
      "math: 65\n",
      "總分:235\n",
      "平均分數:78.33\n",
      "這是Student實體\n",
      "學生姓名是:小明\n",
      "==========\n",
      "name: 小朱\n",
      "chinese: 93\n",
      "english: 93\n",
      "math: 68\n",
      "總分:254\n",
      "平均分數:84.67\n",
      "這是Student實體\n",
      "學生姓名是:小朱\n",
      "==========\n",
      "name: 小李\n",
      "chinese: 91\n",
      "english: 56\n",
      "math: 87\n",
      "總分:234\n",
      "平均分數:78.00\n",
      "這是Student實體\n",
      "學生姓名是:小李\n"
     ]
    }
   ],
   "source": [
    "stu1=Student(n=\"小明\",c=78,e=92,m=65)\n",
    "stu1.student_info()\n",
    "print(f'總分:{stu1.sum()}')\n",
    "print(f'平均分數:{stu1.average():.2f}')\n",
    "print(stu1)\n",
    "print(\"==========\")\n",
    "\n",
    "stu2=Student(n='小朱',c=93,e=93,m=68)\n",
    "stu2.student_info()\n",
    "print(f'總分:{stu2.sum()}')\n",
    "print(f'平均分數:{stu2.average():.2f}')\n",
    "print(stu2)\n",
    "print(\"==========\")\n",
    "\n",
    "stu3=Student(n='小李',c=91,e=56,m=87)\n",
    "stu3.student_info()\n",
    "print(f'總分:{stu3.sum()}')\n",
    "print(f'平均分數:{stu3.average():.2f}')\n",
    "print(stu3)"
   ]
  }
 ],
 "metadata": {
  "kernelspec": {
   "display_name": "Python 3",
   "language": "python",
   "name": "python3"
  },
  "language_info": {
   "codemirror_mode": {
    "name": "ipython",
    "version": 3
   },
   "file_extension": ".py",
   "mimetype": "text/x-python",
   "name": "python",
   "nbconvert_exporter": "python",
   "pygments_lexer": "ipython3",
   "version": "3.10.12"
  },
  "orig_nbformat": 4
 },
 "nbformat": 4,
 "nbformat_minor": 2
}
