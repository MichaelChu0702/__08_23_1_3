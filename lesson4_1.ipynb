{
 "cells": [
  {
   "cell_type": "code",
   "execution_count": 8,
   "metadata": {},
   "outputs": [
    {
     "name": "stdout",
     "output_type": "stream",
     "text": [
      "True\n",
      "False\n",
      "True\n",
      "False\n"
     ]
    }
   ],
   "source": [
    "#比較運算子\n",
    "x=7\n",
    "print(x==7)\n",
    "print(5>x)\n",
    "print(5!=x)\n",
    "print(5==x)\n"
   ]
  },
  {
   "cell_type": "code",
   "execution_count": 10,
   "metadata": {},
   "outputs": [
    {
     "name": "stdout",
     "output_type": "stream",
     "text": [
      "及格\n"
     ]
    }
   ],
   "source": [
    "scores=int(input(\"請輸入分數\"))\n",
    "if scores<60:\n",
    "    print(\"不及格\")\n",
    "else:\n",
    "    print(\"及格\")"
   ]
  },
  {
   "cell_type": "code",
   "execution_count": 32,
   "metadata": {},
   "outputs": [
    {
     "name": "stdout",
     "output_type": "stream",
     "text": [
      "250\n",
      "250\n",
      "250\n",
      "程式結束\n"
     ]
    }
   ],
   "source": [
    "#學生總分為 300\n",
    "#有些學生可以加分5%\n",
    "#如果加分超過300 就以300為準\n",
    "try:\n",
    "    scores=int(input(\"請輸入學生分數(最高300):\"))\n",
    "except:\n",
    "    print(\"輸入錯誤\")\n",
    "else:\n",
    "    is_add=input(\"學生是否符合加分條件?(y,n)\")\n",
    "    if(is_add==\"y\"): #單項選擇\n",
    "        scores*=1.05\n",
    "        if scores>300:\n",
    "            scores=300\n",
    "\n",
    "    print(int(scores))\n",
    "    print(round(scores))\n",
    "    print(f'{scores:.0f}')\n",
    "print(\"程式結束\")"
   ]
  },
  {
   "cell_type": "code",
   "execution_count": 39,
   "metadata": {},
   "outputs": [
    {
     "name": "stdout",
     "output_type": "stream",
     "text": [
      "小於60\n"
     ]
    }
   ],
   "source": [
    "#兩個條件使用巢狀判斷\n",
    "scores=int(input(\"輸入數字\"))\n",
    "if scores >=60:\n",
    "    if scores<=80:\n",
    "        print(\"60~80\")\n",
    "    else:\n",
    "        print(\"大於80\")\n",
    "else:\n",
    "    print(\"小於60\")\n"
   ]
  },
  {
   "cell_type": "code",
   "execution_count": 48,
   "metadata": {},
   "outputs": [
    {
     "name": "stdout",
     "output_type": "stream",
     "text": [
      "小於60\n"
     ]
    }
   ],
   "source": [
    "#2個條件使用邏輯運算子\n",
    "scores=7\n",
    "if scores>=60 and scores<=80:\n",
    "    print(\"60~80\")\n",
    "else:\n",
    "    if scores<60:\n",
    "        print(\"小於60\")\n",
    "    else:\n",
    "        print(\"大於80\")"
   ]
  },
  {
   "cell_type": "code",
   "execution_count": 49,
   "metadata": {},
   "outputs": [
    {
     "name": "stdout",
     "output_type": "stream",
     "text": [
      "小於等於60\n"
     ]
    }
   ],
   "source": [
    "scores=50\n",
    "if scores<=60:\n",
    "    print(\"小於等於60\")\n",
    "if scores>=80:\n",
    "    print(\"大於等於80\")"
   ]
  },
  {
   "cell_type": "code",
   "execution_count": 52,
   "metadata": {},
   "outputs": [
    {
     "name": "stdout",
     "output_type": "stream",
     "text": [
      "小於等於60或者大於等於80\n"
     ]
    }
   ],
   "source": [
    "#使用邏輯運算子or\n",
    "scores=89\n",
    "if scores<=60 or scores>=80:\n",
    "    print(\"小於等於60或者大於等於80\")\n",
    "else:\n",
    "    print(\"61~79之間\")"
   ]
  },
  {
   "cell_type": "code",
   "execution_count": 53,
   "metadata": {},
   "outputs": [
    {
     "name": "stdout",
     "output_type": "stream",
     "text": [
      "81~100\n"
     ]
    }
   ],
   "source": [
    "scores=500\n",
    "if scores<60:\n",
    "    print(\"小於60\")\n",
    "elif scores <=80:\n",
    "    print(\"60~80\")\n",
    "else:\n",
    "    print(\"81~100\")"
   ]
  },
  {
   "cell_type": "code",
   "execution_count": 55,
   "metadata": {},
   "outputs": [
    {
     "name": "stdout",
     "output_type": "stream",
     "text": [
      "60~80\n"
     ]
    }
   ],
   "source": [
    "scores=78\n",
    "if scores>80:\n",
    "    print(\"81~100\")\n",
    "elif scores>=60:\n",
    "    print(\"60~80\")\n",
    "else:\n",
    "    print(\"小於60\")"
   ]
  },
  {
   "cell_type": "code",
   "execution_count": 66,
   "metadata": {},
   "outputs": [
    {
     "name": "stdout",
     "output_type": "stream",
     "text": [
      "優\n",
      "輸入錯誤\n"
     ]
    }
   ],
   "source": [
    "#90~100優 80~90甲 70~79乙 60~69丙 0~59丁\n",
    "scores=int(input(\"輸入學生分數:\"))\n",
    "if scores >=90  :\n",
    "    print(\"優\")\n",
    "elif scores >=80:\n",
    "    print(\"甲\")\n",
    "elif scores >=70:\n",
    "    print(\"乙\")\n",
    "elif scores>=60:\n",
    "    print(\"丙\")\n",
    "\n",
    "else:\n",
    "    print(\"丁\")"
   ]
  },
  {
   "cell_type": "code",
   "execution_count": 80,
   "metadata": {},
   "outputs": [
    {
     "name": "stdout",
     "output_type": "stream",
     "text": [
      "輸入錯誤 請重新輸入\n"
     ]
    }
   ],
   "source": [
    "#若輸入分數大於100\n",
    "scores=int(input(\"輸入分數\"))\n",
    "if scores >100:\n",
    "    print(\"輸入錯誤 請重新輸入\")\n",
    "if scores >=90 and scores<101  :\n",
    "    print(\"優\")\n",
    "if scores >=80 and scores<90  :\n",
    "    print(\"甲\")\n",
    "if scores >=70 and scores<80  :\n",
    "    print(\"乙\")\n",
    "if scores>=60 and scores<70  :\n",
    "    print(\"丙\")\n",
    "\n",
    "if scores <60:\n",
    "    print(\"丁\")"
   ]
  },
  {
   "cell_type": "code",
   "execution_count": 97,
   "metadata": {},
   "outputs": [
    {
     "name": "stdout",
     "output_type": "stream",
     "text": [
      "購買金額是:36556\n",
      "實付金額是:32900\n"
     ]
    }
   ],
   "source": [
    "#打折\n",
    "#輸入購買金額\n",
    "#100000打8折\n",
    "#50000打85折\n",
    "#30000打9折\n",
    "#10000打95折\n",
    "money=int(input(\"請輸入購買金額:\"))\n",
    "if money<10000:\n",
    "    paymoney=money*1\n",
    "elif money<30000:\n",
    "    paymoney=money*0.95\n",
    "elif money<50000:\n",
    "    paymoney=money*0.9\n",
    "elif money<100000:\n",
    "    paymoney=money*0.85\n",
    "else:\n",
    "    paymoney=money*0.8\n",
    "   \n",
    "print(f\"購買金額是:{money}\")\n",
    "print(f\"實付金額是:{round(paymoney):.0f}\")"
   ]
  },
  {
   "cell_type": "code",
   "execution_count": 100,
   "metadata": {},
   "outputs": [
    {
     "name": "stdout",
     "output_type": "stream",
     "text": [
      "獎金:0\n"
     ]
    }
   ],
   "source": [
    "#國文100 同時數學100 獎金1000\n",
    "#國文100 或者數學100 獎金500\n",
    "#其他獎金0\n",
    "chinese=int(input(\"請輸入國文分數:\"))\n",
    "math=int(input(\"請輸入數學分數:\"))\n",
    "bonus=0\n",
    "if chinese==100 and math==100:\n",
    "    bonus+=1000\n",
    "elif chinese==100 or math==100:\n",
    "    bonus+=500\n",
    "\n",
    "\n",
    "print(f\"獎金:{bonus}\")\n"
   ]
  },
  {
   "cell_type": "code",
   "execution_count": 108,
   "metadata": {},
   "outputs": [
    {
     "name": "stdout",
     "output_type": "stream",
     "text": [
      "1275\n"
     ]
    }
   ],
   "source": [
    "#1加到50總數\n",
    "sum=0\n",
    "for i in range(1,51):\n",
    "    sum+=i\n",
    "print(sum)"
   ]
  }
 ],
 "metadata": {
  "kernelspec": {
   "display_name": "Python 3",
   "language": "python",
   "name": "python3"
  },
  "language_info": {
   "codemirror_mode": {
    "name": "ipython",
    "version": 3
   },
   "file_extension": ".py",
   "mimetype": "text/x-python",
   "name": "python",
   "nbconvert_exporter": "python",
   "pygments_lexer": "ipython3",
   "version": "3.10.12"
  },
  "orig_nbformat": 4
 },
 "nbformat": 4,
 "nbformat_minor": 2
}
