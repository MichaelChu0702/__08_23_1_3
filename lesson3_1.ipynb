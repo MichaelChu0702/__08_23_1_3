{
 "cells": [
  {
   "cell_type": "code",
   "execution_count": 36,
   "metadata": {},
   "outputs": [
    {
     "name": "stdout",
     "output_type": "stream",
     "text": [
      "三角形對邊3.0,三角形斜邊9.0\n",
      "弳度是:0.340,角度是:19\n"
     ]
    }
   ],
   "source": [
    "#讓使用者輸入直角三角形的對邊\n",
    "#讓使用者輸入直角三角形的斜邊\n",
    "#計算角度\n",
    "import math\n",
    "x=float (input(\"請輸入對邊\"))\n",
    "y=float (input(\"請輸入斜邊\"))\n",
    "radian= math.asin(x/y)\n",
    "degree=math.degrees(radian)\n",
    "print(f\"三角形對邊{x},三角形斜邊{y}\")\n",
    "print(f'弳度是:{radian:.3f},角度是:{round(degree)}')\n",
    "\n",
    "\n"
   ]
  },
  {
   "cell_type": "code",
   "execution_count": 35,
   "metadata": {},
   "outputs": [],
   "source": [
    "#大學數學(微積分)\n",
    "\n",
    "import sympy"
   ]
  }
 ],
 "metadata": {
  "kernelspec": {
   "display_name": "Python 3",
   "language": "python",
   "name": "python3"
  },
  "language_info": {
   "codemirror_mode": {
    "name": "ipython",
    "version": 3
   },
   "file_extension": ".py",
   "mimetype": "text/x-python",
   "name": "python",
   "nbconvert_exporter": "python",
   "pygments_lexer": "ipython3",
   "version": "3.10.12"
  },
  "orig_nbformat": 4
 },
 "nbformat": 4,
 "nbformat_minor": 2
}
