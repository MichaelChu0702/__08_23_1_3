{
 "cells": [
  {
   "cell_type": "code",
   "execution_count": 25,
   "metadata": {},
   "outputs": [
    {
     "name": "stdout",
     "output_type": "stream",
     "text": [
      "請輸入要取得的名字數量:"
     ]
    },
    {
     "data": {
      "text/plain": [
       "['李雅怡', '蘇婷婷', '景歡燦']"
      ]
     },
     "execution_count": 25,
     "metadata": {},
     "output_type": "execute_result"
    }
   ],
   "source": [
    "import pyinputplus  as pyip\n",
    "import random\n",
    "with open (\"names.txt\",encoding=\"utf-8\") as file:\n",
    "    names=[]\n",
    "    for name in file:\n",
    "        names.append(name.rstrip())#刪除右邊字串 實體方法要用()\n",
    "num=pyip.inputInt(\"請輸入要取得的名字數量:\",min=0,max=50)\n",
    "random.choices(names,k=num)#choices 回傳list裡的隨機元素\n",
    "\n",
    "\n"
   ]
  },
  {
   "cell_type": "code",
   "execution_count": 26,
   "metadata": {},
   "outputs": [
    {
     "name": "stdout",
     "output_type": "stream",
     "text": [
      "請輸入要取得的名字數量:"
     ]
    },
    {
     "data": {
      "text/plain": [
       "['龔姵君', '張明惟']"
      ]
     },
     "execution_count": 26,
     "metadata": {},
     "output_type": "execute_result"
    }
   ],
   "source": [
    "import random\n",
    "import pyinputplus  as pyip\n",
    "def getNames(num:int)->list[str]:\n",
    "    with open (\"names.txt\",encoding=\"utf-8\") as file:\n",
    "        names=[]\n",
    "        for name in file:\n",
    "            names.append(name.rstrip())\n",
    "        return random.choices(names,k=num)\n",
    "n=pyip.inputInt(\"請輸入要取得的名字數量:\",min=0,max=50)\n",
    "getNames(num=n)"
   ]
  }
 ],
 "metadata": {
  "kernelspec": {
   "display_name": "Python 3",
   "language": "python",
   "name": "python3"
  },
  "language_info": {
   "codemirror_mode": {
    "name": "ipython",
    "version": 3
   },
   "file_extension": ".py",
   "mimetype": "text/x-python",
   "name": "python",
   "nbconvert_exporter": "python",
   "pygments_lexer": "ipython3",
   "version": "3.10.10"
  },
  "orig_nbformat": 4
 },
 "nbformat": 4,
 "nbformat_minor": 2
}
